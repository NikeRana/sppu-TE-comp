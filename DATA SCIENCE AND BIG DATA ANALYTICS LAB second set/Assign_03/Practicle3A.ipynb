{
  "nbformat": 4,
  "nbformat_minor": 0,
  "metadata": {
    "colab": {
      "provenance": [],
      "authorship_tag": "ABX9TyNoq3YwJ7+grsmO0o+Fia9/",
      "include_colab_link": true
    },
    "kernelspec": {
      "name": "python3",
      "display_name": "Python 3"
    },
    "language_info": {
      "name": "python"
    }
  },
  "cells": [
    {
      "cell_type": "markdown",
      "metadata": {
        "id": "view-in-github",
        "colab_type": "text"
      },
      "source": [
        "<a href=\"https://colab.research.google.com/github/Kisna2512/DSBDA_Lab/blob/main/Practicle3A.ipynb\" target=\"_parent\"><img src=\"https://colab.research.google.com/assets/colab-badge.svg\" alt=\"Open In Colab\"/></a>"
      ]
    },
    {
      "cell_type": "code",
      "execution_count": 5,
      "metadata": {
        "colab": {
          "base_uri": "https://localhost:8080/",
          "height": 0
        },
        "id": "v-9W3klpwBa5",
        "outputId": "eba4cabb-71c8-4c7f-e1e5-ec0016a7965d"
      },
      "outputs": [
        {
          "output_type": "stream",
          "name": "stdout",
          "text": [
            "              Number            Age         Income\n",
            "count  150000.000000  150000.000000  150000.000000\n",
            "mean    75000.500000      44.950200   91252.798273\n",
            "std     43301.414527      11.572486   24989.500948\n",
            "min         1.000000      25.000000    -654.000000\n",
            "25%     37500.750000      35.000000   80867.750000\n",
            "50%     75000.500000      45.000000   93655.000000\n",
            "75%    112500.250000      55.000000  104519.000000\n",
            "max    150000.000000      65.000000  177157.000000\n"
          ]
        }
      ],
      "source": [
        "import pandas as pd\n",
        "import numpy as np\n",
        "data=pd.read_csv(\"/toy_dataset.csv\")\n",
        "print(data.describe())"
      ]
    },
    {
      "cell_type": "code",
      "source": [
        "df = pd.DataFrame(data)\n",
        "grouped=df.groupby(\"Age\")\n",
        "\n",
        "ans=grouped[\"Age\"].describe()\n",
        "print(ans)"
      ],
      "metadata": {
        "colab": {
          "base_uri": "https://localhost:8080/"
        },
        "id": "Sv7sy5_Uz1BY",
        "outputId": "c98cae4b-f4bc-4173-feba-aa4145286302"
      },
      "execution_count": 16,
      "outputs": [
        {
          "output_type": "stream",
          "name": "stdout",
          "text": [
            "      count  mean  std   min   25%   50%   75%   max\n",
            "Age                                                 \n",
            "25   1868.0  25.0  0.0  25.0  25.0  25.0  25.0  25.0\n",
            "26   3918.0  26.0  0.0  26.0  26.0  26.0  26.0  26.0\n",
            "27   3790.0  27.0  0.0  27.0  27.0  27.0  27.0  27.0\n",
            "28   3798.0  28.0  0.0  28.0  28.0  28.0  28.0  28.0\n",
            "29   3805.0  29.0  0.0  29.0  29.0  29.0  29.0  29.0\n",
            "30   3731.0  30.0  0.0  30.0  30.0  30.0  30.0  30.0\n",
            "31   3749.0  31.0  0.0  31.0  31.0  31.0  31.0  31.0\n",
            "32   3759.0  32.0  0.0  32.0  32.0  32.0  32.0  32.0\n",
            "33   3769.0  33.0  0.0  33.0  33.0  33.0  33.0  33.0\n",
            "34   3710.0  34.0  0.0  34.0  34.0  34.0  34.0  34.0\n",
            "35   3658.0  35.0  0.0  35.0  35.0  35.0  35.0  35.0\n",
            "36   3780.0  36.0  0.0  36.0  36.0  36.0  36.0  36.0\n",
            "37   3771.0  37.0  0.0  37.0  37.0  37.0  37.0  37.0\n",
            "38   3734.0  38.0  0.0  38.0  38.0  38.0  38.0  38.0\n",
            "39   3675.0  39.0  0.0  39.0  39.0  39.0  39.0  39.0\n",
            "40   3740.0  40.0  0.0  40.0  40.0  40.0  40.0  40.0\n",
            "41   3862.0  41.0  0.0  41.0  41.0  41.0  41.0  41.0\n",
            "42   3760.0  42.0  0.0  42.0  42.0  42.0  42.0  42.0\n",
            "43   3862.0  43.0  0.0  43.0  43.0  43.0  43.0  43.0\n",
            "44   3782.0  44.0  0.0  44.0  44.0  44.0  44.0  44.0\n",
            "45   3670.0  45.0  0.0  45.0  45.0  45.0  45.0  45.0\n",
            "46   3707.0  46.0  0.0  46.0  46.0  46.0  46.0  46.0\n",
            "47   3773.0  47.0  0.0  47.0  47.0  47.0  47.0  47.0\n",
            "48   3743.0  48.0  0.0  48.0  48.0  48.0  48.0  48.0\n",
            "49   3762.0  49.0  0.0  49.0  49.0  49.0  49.0  49.0\n",
            "50   3692.0  50.0  0.0  50.0  50.0  50.0  50.0  50.0\n",
            "51   3729.0  51.0  0.0  51.0  51.0  51.0  51.0  51.0\n",
            "52   3753.0  52.0  0.0  52.0  52.0  52.0  52.0  52.0\n",
            "53   3724.0  53.0  0.0  53.0  53.0  53.0  53.0  53.0\n",
            "54   3838.0  54.0  0.0  54.0  54.0  54.0  54.0  54.0\n",
            "55   3687.0  55.0  0.0  55.0  55.0  55.0  55.0  55.0\n",
            "56   3602.0  56.0  0.0  56.0  56.0  56.0  56.0  56.0\n",
            "57   3732.0  57.0  0.0  57.0  57.0  57.0  57.0  57.0\n",
            "58   3762.0  58.0  0.0  58.0  58.0  58.0  58.0  58.0\n",
            "59   3775.0  59.0  0.0  59.0  59.0  59.0  59.0  59.0\n",
            "60   3582.0  60.0  0.0  60.0  60.0  60.0  60.0  60.0\n",
            "61   3737.0  61.0  0.0  61.0  61.0  61.0  61.0  61.0\n",
            "62   3684.0  62.0  0.0  62.0  62.0  62.0  62.0  62.0\n",
            "63   3784.0  63.0  0.0  63.0  63.0  63.0  63.0  63.0\n",
            "64   3879.0  64.0  0.0  64.0  64.0  64.0  64.0  64.0\n",
            "65   1864.0  65.0  0.0  65.0  65.0  65.0  65.0  65.0\n"
          ]
        }
      ]
    },
    {
      "cell_type": "code",
      "source": [
        "r1=[]\n",
        "r2=[]\n",
        "r3=[]\n",
        "\n",
        "x=data.loc[:,\"Age\"]\n",
        "\n",
        "for age in x:\n",
        "  if(age > 24 and age < 31):\n",
        "    r1.append(age)\n",
        "  elif(age > 30 and age< 36):\n",
        "    r2.append(age)\n",
        "  else:\n",
        "    r3.append(age) \n",
        "\n",
        "d1=pd.DataFrame(r1)\n",
        "print(\"Statistics for age 25-30\")\n",
        "print(d1.describe())    \n",
        "print()\n",
        "d2=pd.DataFrame(r2)\n",
        "print(\"Statistics for age 30-35\")\n",
        "print(d2.describe())\n",
        "print()\n",
        "print(\"Statistics for age 35 and above\")\n",
        "d3=pd.DataFrame(r3)\n",
        "print(d3.describe())\n",
        "\n"
      ],
      "metadata": {
        "colab": {
          "base_uri": "https://localhost:8080/"
        },
        "id": "BYFJp0QF2Py7",
        "outputId": "8695a496-d6d4-4c77-fd34-780f83604bf9"
      },
      "execution_count": 61,
      "outputs": [
        {
          "output_type": "stream",
          "name": "stdout",
          "text": [
            "Statistics for age 25-30\n",
            "                  0\n",
            "count  20910.000000\n",
            "mean      27.714825\n",
            "std        1.596641\n",
            "min       25.000000\n",
            "25%       26.000000\n",
            "50%       28.000000\n",
            "75%       29.000000\n",
            "max       30.000000\n",
            "\n",
            "Statistics for age 30-35\n",
            "                  0\n",
            "count  18645.000000\n",
            "mean      32.987611\n",
            "std        1.410532\n",
            "min       31.000000\n",
            "25%       32.000000\n",
            "50%       33.000000\n",
            "75%       34.000000\n",
            "max       35.000000\n",
            "\n",
            "Statistics for age 35 and above\n",
            "                   0\n",
            "count  110445.000000\n",
            "mean       50.232776\n",
            "std         8.530075\n",
            "min        36.000000\n",
            "25%        43.000000\n",
            "50%        50.000000\n",
            "75%        58.000000\n",
            "max        65.000000\n"
          ]
        }
      ]
    },
    {
      "cell_type": "code",
      "source": [
        "\n"
      ],
      "metadata": {
        "id": "HklEoU1w2boX"
      },
      "execution_count": null,
      "outputs": []
    }
  ]
}